{
 "cells": [
  {
   "cell_type": "markdown",
   "metadata": {},
   "source": [
    "## Retail Bank Study"
   ]
  },
  {
   "cell_type": "markdown",
   "metadata": {},
   "source": [
    "### Problem Definition:\n",
    "1. To explore the current data set and identify the group / profile of customers which responded positively to the campaign. Understanding of customer profile will later help in doing targeted marketing campaigns.\n",
    "2. Predict if a customer will subscribe to the term deposit or not, based on given data.\n"
   ]
  },
  {
   "cell_type": "markdown",
   "metadata": {},
   "source": [
    "### Data Exploration"
   ]
  },
  {
   "cell_type": "code",
   "execution_count": null,
   "metadata": {
    "collapsed": true
   },
   "outputs": [],
   "source": [
    "# import data set\n",
    "data = pd.read_csv(\"marketing_dataset 2.csv\", sep=\";\", na_values=[999, 'unknown'])"
   ]
  },
  {
   "cell_type": "markdown",
   "metadata": {},
   "source": [
    "There are multiple ways of exploring this data set (eg: Descriptive & Visual). We will proceeed with the descriptive way to be abl to follow the exact statistics of the data.\n",
    "\n",
    "The given data set belongs to a retail bank. It consist of  values 3000 observations and 21 features. The given data set has few null values also, but looks like they are being coded as 999 & 'Unknown' observations. A feature `pdays` has 96% missing values as shown in following cell."
   ]
  },
  {
   "cell_type": "code",
   "execution_count": 80,
   "metadata": {
    "scrolled": true
   },
   "outputs": [
    {
     "data": {
      "text/plain": [
       "pdays             0.962988\n",
       "default           0.198733\n",
       "education         0.046015\n",
       "housing           0.025675\n",
       "loan              0.025675\n",
       "job               0.010670\n",
       "marital           0.003001\n",
       "duration          0.000333\n",
       "day_of_week       0.000000\n",
       "contact           0.000000\n",
       "month             0.000000\n",
       "y                 0.000000\n",
       "nr.employed       0.000000\n",
       "campaign          0.000000\n",
       "previous          0.000000\n",
       "poutcome          0.000000\n",
       "emp.var.rate      0.000000\n",
       "cons.price.idx    0.000000\n",
       "cons.conf.idx     0.000000\n",
       "euribor3m         0.000000\n",
       "age               0.000000\n",
       "dtype: float64"
      ]
     },
     "execution_count": 80,
     "metadata": {},
     "output_type": "execute_result"
    }
   ],
   "source": [
    "## missing values by features\n",
    "data.isna().sum(axis=0).sort_values(ascending=False) / data.shape[0]"
   ]
  },
  {
   "cell_type": "markdown",
   "metadata": {},
   "source": [
    "### Hypothesis Generation"
   ]
  },
  {
   "cell_type": "markdown",
   "metadata": {},
   "source": [
    "In any data science problem, generating hypothesis is extremely important to be able to understand: <br>\n",
    "\n",
    "1) <strong>Gain business understanding</strong> - Knowing how the business works helps a lot in understand the impact of problem \n",
    "\n",
    "2) <strong>Scope of features which can affect the problem</strong> - Knowing what features we have currently / might need in future \n",
    "also helps in steering a data science project in the right direction.\n"
   ]
  },
  {
   "cell_type": "markdown",
   "metadata": {},
   "source": [
    "Based on a typical retail bank, we hypothesis the following:\n",
    "1. <strong>Age</strong>:  Age of a customers should be important. Too young or too old customers might not be interested in investing in any sort of financial instruments.\n",
    "2. <strong>Occupation</strong>: People with jobs are more likely to buy a product as compared to jobless people.\n",
    "3. <strong>Married Status</strong>: Since married people have more responsibility, they are more likely to subscribe to financial products which promises them future security\n",
    "4. <strong> Salary </strong>: People with fat salaries are likely to buy such products.\n",
    "5. <strong> Education </strong>: Educated people understand the value of investing in such products as compared to uneducated people, hence the are more likely to subscribe to such products.\n",
    "6. <strong>Number of dependents</strong>: People having dependents are more likely to invest in such products as compared to people having no dependents.\n",
    "7. <strong>Past history</strong>: People who have invested in such products in the past and completed the term period are more likely to invest again."
   ]
  },
  {
   "cell_type": "markdown",
   "metadata": {},
   "source": [
    "Now, let's look the data and understand the information given to us. <br>\n",
    "The dependent variable has following distribution:"
   ]
  },
  {
   "cell_type": "code",
   "execution_count": 75,
   "metadata": {},
   "outputs": [
    {
     "name": "stdout",
     "output_type": "stream",
     "text": [
      "Only 0.11% people bought term deposit and the rest 0.89% did not buy. This is a classic imbalanced classification problem\n"
     ]
    }
   ],
   "source": [
    "p = data.y.value_counts(normalize=True)\n",
    "print(f'Only {round(p[1], 2)}% people bought term deposit and the rest {round(p[0], 2)}% did not buy. This is a classic imbalanced classification problem.')"
   ]
  },
  {
   "cell_type": "markdown",
   "metadata": {},
   "source": [
    "Let's take a quick look at the other statistics:"
   ]
  },
  {
   "cell_type": "code",
   "execution_count": 76,
   "metadata": {
    "scrolled": true
   },
   "outputs": [
    {
     "name": "stdout",
     "output_type": "stream",
     "text": [
      "age int64\n",
      "----------------------------------------------------------------------------------------------------\n",
      "      count       mean        std   min   25%   50%   75%   max\n",
      "y                                                              \n",
      "no   2668.0  39.673538   9.880855  18.0  32.0  38.0  47.0  88.0\n",
      "yes   331.0  41.628399  12.963035  18.0  31.0  39.0  50.0  86.0\n",
      "****************************************************************************************************\n",
      "job object\n",
      "----------------------------------------------------------------------------------------------------\n",
      "job    admin.  blue-collar  entrepreneur  housemaid  management   retired  \\\n",
      "y                                                                           \n",
      "no   0.244411     0.225085      0.039409   0.024252    0.081091  0.034483   \n",
      "yes  0.298780     0.152439      0.024390   0.018293    0.057927  0.082317   \n",
      "\n",
      "job  self-employed  services   student  technician  unemployed  \n",
      "y                                                               \n",
      "no        0.040546  0.101554  0.017431    0.164835    0.026904  \n",
      "yes       0.021341  0.079268  0.036585    0.185976    0.042683  \n",
      "marital object\n",
      "----------------------------------------------------------------------------------------------------\n",
      "marital  divorced   married    single\n",
      "y                                    \n",
      "no       0.109023  0.612406  0.278571\n",
      "yes      0.096970  0.554545  0.348485\n",
      "education object\n",
      "----------------------------------------------------------------------------------------------------\n",
      "education  basic.4y  basic.6y  basic.9y  high.school  professional.course  \\\n",
      "y                                                                           \n",
      "no         0.105408  0.062696  0.149687     0.239028             0.132445   \n",
      "yes        0.093851  0.042071  0.103560     0.226537             0.139159   \n",
      "\n",
      "education  university.degree  \n",
      "y                             \n",
      "no                  0.310737  \n",
      "yes                 0.394822  \n",
      "default object\n",
      "----------------------------------------------------------------------------------------------------\n",
      "default   no\n",
      "y           \n",
      "no       1.0\n",
      "yes      1.0\n",
      "housing object\n",
      "----------------------------------------------------------------------------------------------------\n",
      "housing        no       yes\n",
      "y                          \n",
      "no       0.454545  0.545455\n",
      "yes      0.469325  0.530675\n",
      "loan object\n",
      "----------------------------------------------------------------------------------------------------\n",
      "loan        no       yes\n",
      "y                       \n",
      "no    0.832820  0.167180\n",
      "yes   0.843558  0.156442\n",
      "contact object\n",
      "----------------------------------------------------------------------------------------------------\n",
      "contact  cellular  telephone\n",
      "y                           \n",
      "no       0.623688   0.376312\n",
      "yes      0.818731   0.181269\n",
      "month object\n",
      "----------------------------------------------------------------------------------------------------\n",
      "month       apr       aug       dec       jul       jun       mar       may  \\\n",
      "y                                                                             \n",
      "no     0.047601  0.152549  0.002624  0.177286  0.124063  0.005247  0.358321   \n",
      "yes    0.072508  0.132931  0.021148  0.154079  0.157100  0.045317  0.205438   \n",
      "\n",
      "month       nov       oct       sep  \n",
      "y                                    \n",
      "no     0.107946  0.012744  0.011619  \n",
      "yes    0.099698  0.054381  0.057402  \n",
      "day_of_week object\n",
      "----------------------------------------------------------------------------------------------------\n",
      "day_of_week       fri       mon       thu       tue       wed\n",
      "y                                                            \n",
      "no           0.181409  0.202024  0.209145  0.207646  0.199775\n",
      "yes          0.166163  0.232628  0.211480  0.196375  0.193353\n",
      "duration float64\n",
      "----------------------------------------------------------------------------------------------------\n",
      "      count        mean         std   min    25%    50%    75%     max\n",
      "y                                                                     \n",
      "no   2667.0  215.723285  195.980184   0.0   94.0  163.0  271.0  3253.0\n",
      "yes   331.0  569.990937  415.529297  63.0  270.0  470.0  766.5  3643.0\n",
      "****************************************************************************************************\n",
      "campaign int64\n",
      "----------------------------------------------------------------------------------------------------\n",
      "      count      mean       std  min  25%  50%  75%   max\n",
      "y                                                        \n",
      "no   2668.0  2.602699  2.661285  1.0  1.0  2.0  3.0  35.0\n",
      "yes   331.0  1.915408  1.318437  1.0  1.0  1.0  2.0  11.0\n",
      "****************************************************************************************************\n",
      "pdays float64\n",
      "----------------------------------------------------------------------------------------------------\n",
      "     count     mean       std  min  25%  50%   75%   max\n",
      "y                                                       \n",
      "no    40.0  5.85000  4.098468  1.0  3.0  4.0  6.25  18.0\n",
      "yes   71.0  5.28169  3.052788  0.0  3.0  5.0  6.00  18.0\n",
      "****************************************************************************************************\n",
      "previous int64\n",
      "----------------------------------------------------------------------------------------------------\n",
      "      count      mean       std  min  25%  50%  75%  max\n",
      "y                                                       \n",
      "no   2668.0  0.141304  0.425882  0.0  0.0  0.0  0.0  6.0\n",
      "yes   331.0  0.601208  1.055088  0.0  0.0  0.0  1.0  6.0\n",
      "****************************************************************************************************\n",
      "poutcome object\n",
      "----------------------------------------------------------------------------------------------------\n",
      "poutcome   failure  nonexistent   success\n",
      "y                                        \n",
      "no        0.105697     0.881184  0.013118\n",
      "yes       0.148036     0.652568  0.199396\n",
      "emp.var.rate float64\n",
      "----------------------------------------------------------------------------------------------------\n",
      "      count      mean       std  min  25%  50%  75%  max\n",
      "y                                                       \n",
      "no   2668.0  0.216154  1.488468 -3.4 -1.8  1.1  1.4  1.4\n",
      "yes   331.0 -1.025680  1.674055 -3.4 -1.8 -1.7  1.1  1.4\n",
      "****************************************************************************************************\n",
      "cons.price.idx float64\n",
      "----------------------------------------------------------------------------------------------------\n",
      "      count       mean       std     min     25%     50%     75%     max\n",
      "y                                                                       \n",
      "no   2668.0  93.596114  0.565896  92.201  93.075  93.918  93.994  94.767\n",
      "yes   331.0  93.491360  0.685932  92.201  92.893  93.444  94.027  94.767\n",
      "****************************************************************************************************\n",
      "cons.conf.idx float64\n",
      "----------------------------------------------------------------------------------------------------\n",
      "      count       mean       std   min   25%   50%   75%   max\n",
      "y                                                             \n",
      "no   2668.0 -40.654273  4.428300 -50.8 -42.7 -41.8 -36.4 -26.9\n",
      "yes   331.0 -39.965257  5.731252 -50.8 -42.7 -40.4 -36.1 -26.9\n",
      "****************************************************************************************************\n",
      "euribor3m float64\n",
      "----------------------------------------------------------------------------------------------------\n",
      "      count      mean       std    min    25%    50%    75%    max\n",
      "y                                                                 \n",
      "no   2668.0  3.769919  1.655680  0.635  1.405  4.857  4.961  5.045\n",
      "yes   331.0  2.282650  1.834428  0.635  0.850  1.266  4.858  4.970\n",
      "****************************************************************************************************\n",
      "nr.employed float64\n",
      "----------------------------------------------------------------------------------------------------\n",
      "      count         mean        std     min     25%     50%     75%     max\n",
      "y                                                                          \n",
      "no   2668.0  5174.121852  66.831924  4963.6  5099.1  5195.8  5228.1  5228.1\n",
      "yes   331.0  5097.293656  94.353733  4963.6  5008.7  5099.1  5195.8  5228.1\n",
      "****************************************************************************************************\n",
      "y object\n",
      "----------------------------------------------------------------------------------------------------\n",
      "y     no  yes\n",
      "y            \n",
      "no   1.0  NaN\n",
      "yes  NaN  1.0\n"
     ]
    }
   ],
   "source": [
    "# view statistics of all features\n",
    "for x in data.columns:\n",
    "    print(x, data[x].dtype)\n",
    "    print('-'*100)\n",
    "    if data[x].dtype != 'object':\n",
    "        print(data.groupby('y')[x].describe())\n",
    "        print('*'*100)\n",
    "    else:\n",
    "        print(data.groupby('y')[x].value_counts(normalize=True, ascending=False, sort=True).unstack())"
   ]
  },
  {
   "cell_type": "markdown",
   "metadata": {},
   "source": [
    "Following are the main insights:\n",
    "1. The mean age of people who bought the product is 41 with a standard dev. of 12 years.\n",
    "2. Approx. 30% of the people having admin jobs bought the product, followedd by people with technician jobs.\n",
    "3. Out of all the people who subscribed to term deposit, 55% of them were married.\n",
    "4. 39% of the people had a university degree who subscribed.\n",
    "5. May seems to be the most impactful month for marketing campaigns. May has the highest number of conversions.\n",
    "6. Similarly, for the day of the week, Monday is the most important."
   ]
  },
  {
   "cell_type": "markdown",
   "metadata": {},
   "source": []
  },
  {
   "cell_type": "markdown",
   "metadata": {},
   "source": [
    "### Prediction Model"
   ]
  },
  {
   "cell_type": "markdown",
   "metadata": {},
   "source": [
    "Since, this given data is imbalanced, we are going to to a <strong>gradient boosting decision tree</strong> model because:\n",
    "1. The data has some null values, tree based model is robust null values.\n",
    "2. Tree based model is robust to outliers, we don't need to worry about them.\n",
    "3. Tree based model can detect the non-linear behaviour in the data, thus providing better predictions than linear model"
   ]
  },
  {
   "cell_type": "code",
   "execution_count": null,
   "metadata": {
    "collapsed": true
   },
   "outputs": [],
   "source": [
    "# import libraries\n",
    "from sklearn.model_selection import train_test_split\n",
    "import lightgbm as lgb"
   ]
  },
  {
   "cell_type": "code",
   "execution_count": null,
   "metadata": {
    "collapsed": true
   },
   "outputs": [],
   "source": [
    "# convert cat to numeric\n",
    "for x in cat_cols:\n",
    "    print(x)\n",
    "    data[x] = pd.factorize(data[x])[0]"
   ]
  },
  {
   "cell_type": "code",
   "execution_count": 8,
   "metadata": {
    "collapsed": true
   },
   "outputs": [],
   "source": [
    "# split into train and test\n",
    "target = data['y']\n",
    "X_train, X_valid, y_train, y_valid = train_test_split(data, target, test_size = 0.3, stratify = target)\n",
    "\n",
    "X_train = X_train.drop(['y'], axis=1)\n",
    "X_valid = X_valid.drop(['y'], axis=1)"
   ]
  },
  {
   "cell_type": "markdown",
   "metadata": {},
   "source": [
    "<strong>Note:</strong> We do a stratify split here to ensure the distribution of dependent variable doesn't change."
   ]
  },
  {
   "cell_type": "code",
   "execution_count": 21,
   "metadata": {
    "collapsed": true
   },
   "outputs": [],
   "source": [
    "## params values after parameter tuning\n",
    "param = {\n",
    "    'num_leaves': 18,\n",
    "     'max_bin': 63,\n",
    "     'min_data_in_leaf': 5,\n",
    "     'learning_rate': 0.010614430970330217,\n",
    "     'min_sum_hessian_in_leaf': 0.0093586657313989123,\n",
    "     'feature_fraction': 0.056701788569420042,\n",
    "     'lambda_l1': 0.060222413158420585,\n",
    "     'lambda_l2': 4.6580550589317573,\n",
    "     'min_gain_to_split': 0.29588543202055562,\n",
    "     'max_depth': 49,\n",
    "     'save_binary': True,\n",
    "     'seed': 1337,\n",
    "     'feature_fraction_seed': 1337,\n",
    "     'bagging_seed': 1337,\n",
    "     'drop_seed': 1337,\n",
    "     'data_random_seed': 1337,\n",
    "     'objective': 'binary',\n",
    "     'boosting_type': 'gbdt',\n",
    "     'verbose': 1,\n",
    "     'metric': 'auc',\n",
    "     'is_unbalance': True,\n",
    "     'boost_from_average': False\n",
    "}"
   ]
  },
  {
   "cell_type": "code",
   "execution_count": 22,
   "metadata": {
    "collapsed": true
   },
   "outputs": [],
   "source": [
    "xg_train = lgb.Dataset(X_train.values,\n",
    "                           label=y_train.values,\n",
    "                           feature_name=X_train.columns.tolist(),\n",
    "                           free_raw_data = False\n",
    "                           )\n",
    "xg_valid = lgb.Dataset(X_valid.values,\n",
    "                       label=y_valid.values,\n",
    "                       feature_name=X_train.columns.tolist(),\n",
    "                       free_raw_data = False\n",
    "                       )   "
   ]
  },
  {
   "cell_type": "code",
   "execution_count": 35,
   "metadata": {
    "scrolled": true
   },
   "outputs": [
    {
     "name": "stderr",
     "output_type": "stream",
     "text": [
      "/anaconda3/lib/python3.6/site-packages/lightgbm/basic.py:1027: UserWarning: Using categorical_feature in Dataset.\n",
      "  warnings.warn('Using categorical_feature in Dataset.')\n"
     ]
    },
    {
     "name": "stdout",
     "output_type": "stream",
     "text": [
      "[100]\ttraining's auc: 0.907827\tvalid_1's auc: 0.914211\n",
      "[200]\ttraining's auc: 0.900994\tvalid_1's auc: 0.907237\n",
      "[300]\ttraining's auc: 0.903275\tvalid_1's auc: 0.908196\n",
      "[400]\ttraining's auc: 0.906479\tvalid_1's auc: 0.907363\n",
      "[500]\ttraining's auc: 0.911678\tvalid_1's auc: 0.910453\n",
      "[600]\ttraining's auc: 0.916774\tvalid_1's auc: 0.913959\n",
      "[700]\ttraining's auc: 0.92285\tvalid_1's auc: 0.917691\n",
      "[800]\ttraining's auc: 0.926145\tvalid_1's auc: 0.91894\n",
      "[900]\ttraining's auc: 0.931085\tvalid_1's auc: 0.921941\n",
      "[1000]\ttraining's auc: 0.933602\tvalid_1's auc: 0.922672\n",
      "[1100]\ttraining's auc: 0.939237\tvalid_1's auc: 0.926229\n",
      "[1200]\ttraining's auc: 0.941465\tvalid_1's auc: 0.926947\n",
      "[1300]\ttraining's auc: 0.946036\tvalid_1's auc: 0.929015\n",
      "[1400]\ttraining's auc: 0.947073\tvalid_1's auc: 0.928852\n",
      "[1500]\ttraining's auc: 0.949123\tvalid_1's auc: 0.92923\n",
      "[1600]\ttraining's auc: 0.951365\tvalid_1's auc: 0.929797\n",
      "[1700]\ttraining's auc: 0.953246\tvalid_1's auc: 0.930138\n",
      "[1800]\ttraining's auc: 0.954717\tvalid_1's auc: 0.93044\n",
      "[1900]\ttraining's auc: 0.955906\tvalid_1's auc: 0.930529\n",
      "[2000]\ttraining's auc: 0.957252\tvalid_1's auc: 0.930907\n"
     ]
    }
   ],
   "source": [
    "clf = lgb.train(param, \n",
    "                xg_train,\n",
    "                2000, \n",
    "                valid_sets = [xg_train, xg_valid], \n",
    "                verbose_eval=100)"
   ]
  },
  {
   "cell_type": "markdown",
   "metadata": {},
   "source": [
    "<strong>Note:</strong> We see that the model returns 0.93 AUC score on validation set. We are using AUC here because:\n",
    "1. Since it's an imbalanced problem, we need to be sure about false positives. We can use a global metric such as accuracy.\n",
    "2. AUC will help us detect the false positive, because usually for companies commiting false positives are expensive."
   ]
  },
  {
   "cell_type": "markdown",
   "metadata": {},
   "source": [
    "Now, we'll quickly see what features are important:"
   ]
  },
  {
   "cell_type": "code",
   "execution_count": 81,
   "metadata": {},
   "outputs": [
    {
     "data": {
      "image/png": "[encoded data removed]",
      "text/plain": [
       "<matplotlib.figure.Figure at 0x1a2d662dd8>"
      ]
     },
     "metadata": {},
     "output_type": "display_data"
    }
   ],
   "source": [
    "import matplotlib.pyplot as plt\n",
    "import seaborn as sns\n",
    "\n",
    "feature_imp = pd.DataFrame(sorted(zip(clf.feature_importance(),X_train.columns)), columns=['Value','Feature'])\n",
    "\n",
    "plt.figure(figsize=(20, 10))\n",
    "sns.barplot(x=\"Value\", y=\"Feature\", data=feature_imp.sort_values(by=\"Value\", ascending=False))\n",
    "plt.title('LightGBM Features')\n",
    "plt.show()"
   ]
  },
  {
   "cell_type": "markdown",
   "metadata": {},
   "source": [
    "### Summary"
   ]
  },
  {
   "cell_type": "markdown",
   "metadata": {},
   "source": [
    "In this report, we achieved 0.93 AUC score in determining whether a customer will subscribe to a term deposit or not. We explored customer profile i.e. what kind of people are more likely to subscribe to this product based on past data. We also learned that the given problem is an imbalanced problem, hence we need to very careful in deciding model evaluation. We cannot use global metrics like accuracy which are mis-leading in this case."
   ]
  },
  {
   "cell_type": "code",
   "execution_count": null,
   "metadata": {
    "collapsed": true
   },
   "outputs": [],
   "source": []
  },
  {
   "cell_type": "code",
   "execution_count": null,
   "metadata": {
    "collapsed": true
   },
   "outputs": [],
   "source": []
  },
  {
   "cell_type": "code",
   "execution_count": null,
   "metadata": {
    "collapsed": true
   },
   "outputs": [],
   "source": []
  }
 ],
 "metadata": {
  "kernelspec": {
   "display_name": "Python Bunnies",
   "language": "python",
   "name": "python3"
  },
  "language_info": {
   "codemirror_mode": {
    "name": "ipython",
    "version": 3
   },
   "file_extension": ".py",
   "mimetype": "text/x-python",
   "name": "python",
   "nbconvert_exporter": "python",
   "pygments_lexer": "ipython3",
   "version": "3.7.2"
  }
 },
 "nbformat": 4,
 "nbformat_minor": 2
}
